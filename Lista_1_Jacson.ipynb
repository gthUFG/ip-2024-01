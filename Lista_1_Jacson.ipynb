{
  "nbformat": 4,
  "nbformat_minor": 0,
  "metadata": {
    "colab": {
      "provenance": []
    },
    "kernelspec": {
      "name": "python3",
      "display_name": "Python 3"
    },
    "language_info": {
      "name": "python"
    }
  },
  "cells": [
    {
      "cell_type": "code",
      "execution_count": null,
      "metadata": {
        "id": "ZSI2TorQHL-Y"
      },
      "outputs": [],
      "source": [
        "status = lambda notas : 'aprovado' if sum(notas)/len(notas) >= 6 else 'reprovado'\n",
        "print(status([int(input(f'Nota {x}: ')) for x in range(1,4)]))\n",
        "\n",
        "# receba notas\n",
        "# calcule a média da lista\n",
        "# se media < 6\n",
        "#     retorne reprovado\n",
        "# senao\n",
        "#     retorne aprovado"
      ]
    },
    {
      "cell_type": "code",
      "source": [
        "renda = lambda n, p1, p2, p3, p4  :  n*((p1/100) + (5*p2/100) + (10*p3/100) + (20*p4/100))\n",
        "print(list(map(lambda x: int(x)+2, input('Digite três algarismos: ').split())))\n",
        "\n",
        "# enquanto x < número de jogos\n",
        "#   x += 1\n",
        "#   leia (N, p1, p2, p3, p4)\n",
        "#   retorne  n*((p1/100) + (5*p2/100) + (10*p3/100) + (20*p4/100))"
      ],
      "metadata": {
        "id": "Fl2IO13iHuIS"
      },
      "execution_count": null,
      "outputs": []
    },
    {
      "cell_type": "code",
      "source": [
        "receba os valores n1, n2 e n3\n",
        "se n1, n2 e n3 possuírem apenas um dígito\n",
        "  concatene os valores como uma string\n",
        "senao\n",
        "  retorne 'DIGITO INVALIDO'\n",
        "apague os zeros à esquerda\n",
        "retorne como um número"
      ],
      "metadata": {
        "id": "CChdjAm-FbAR"
      },
      "execution_count": null,
      "outputs": []
    },
    {
      "cell_type": "code",
      "source": [
        "s <- valor do salário mínimo houseWaste <- quantidade gasta de kW por uma residência\n",
        "\n",
        "leia (s) leia (houseWaste)\n",
        "\n",
        "vkW = s*(7/10)\n",
        "\n",
        "imprima 'Custo por kW: R (vkW)'\n",
        "imprima 'Custodoconsumo:R  (houseWastevkW)'\n",
        "imprima 'Custo com desconto R$ (houseWastevkW*9/10)'"
      ],
      "metadata": {
        "id": "-Rre8O22FhC6"
      },
      "execution_count": null,
      "outputs": []
    },
    {
      "cell_type": "code",
      "source": [
        "acc <- leia(conta do cliente)\n",
        "waste <- leia(consumo em m³)\n",
        "typeAcc <- leia(tipo do consumidor)\n",
        "\n",
        "se typeAcc = R\n",
        "  value <- 5 + 0,05*waste\n",
        "se typeAcc = C\n",
        "  value <- (waste-80)*0,25 + 500\n",
        "se typeAcc = I\n",
        "  value <- (waste-100)*0,04 + 800\n",
        "\n",
        "imprima 'CONTA =' + acc\n",
        "imprima 'VALOR DA CONTA =' + value"
      ],
      "metadata": {
        "id": "U_eYb0V6GAeN"
      },
      "execution_count": null,
      "outputs": []
    },
    {
      "cell_type": "code",
      "source": [
        "x <- 0 (contador)\n",
        "values <- leia(valores)\n",
        "\n",
        "enquanto x < leia(numero de temperaturas)\n",
        "  cTemp = 5 * (values[x]-32) / 9\n",
        "  imprima values[x] + 'FAHRENHEIT EQUIVALE A' + cTemp + 'CELSIUS'\n",
        "  x <- x+1"
      ],
      "metadata": {
        "id": "bDDDQz1fKHPq"
      },
      "execution_count": null,
      "outputs": []
    },
    {
      "cell_type": "code",
      "source": [
        "temp <- leia(temperatura)\n",
        "height <- leia(altura)\n",
        "\n",
        "imprima 'O VALOR EM CELSIUS =' + (5*temp - 160)/9 + '\\n'\n",
        "        'A QUANTIDADE DE CHUVA =' + (25.4*height)"
      ],
      "metadata": {
        "id": "OpF9X0DzLEYk"
      },
      "execution_count": null,
      "outputs": []
    },
    {
      "cell_type": "code",
      "source": [
        "r <- leia(raio)\n",
        "h <- leia(altura)\n",
        "\n",
        "imprima 'O VALOR DO CUSTO E =' + (2*pi*r**2 + 2*pi*r*h)*100"
      ],
      "metadata": {
        "id": "gIuBMv6BLEVB"
      },
      "execution_count": null,
      "outputs": []
    },
    {
      "cell_type": "code",
      "source": [
        "delta <- (leia(B)**2 - 4*leia(A)*leia(C)) # APROXIME PARA 2 CASAS DECIMAIS\n",
        "imprima 'O VALOR DE DELTA E =' + delta"
      ],
      "metadata": {
        "id": "AYsp2seEJ6T6"
      },
      "execution_count": null,
      "outputs": []
    },
    {
      "cell_type": "code",
      "source": [
        "det <- leia(A)*leia(D) - leia(B)*leia(C) # APROXIME PARA 2 CASAS DECIMAIS\n",
        "imprima 'O VALOR DO DETERMINANTE E =' + det"
      ],
      "metadata": {
        "id": "lAUCAOPAKGqK"
      },
      "execution_count": null,
      "outputs": []
    },
    {
      "cell_type": "code",
      "source": [
        "se leia(n)%3==0 e leia(n)%5==0\n",
        "  imprima 'O NUMERO E DIVISIVEL'\n",
        "senao\n",
        "  imprima 'O NUMERO NAO E DIVISIVEL'"
      ],
      "metadata": {
        "id": "kkudh15HPboH"
      },
      "execution_count": null,
      "outputs": []
    },
    {
      "cell_type": "code",
      "source": [
        "x <- leia(tempo)\n",
        "\n",
        "se x <= 3\n",
        "  value <- x*5\n",
        "senao\n",
        "  value <- 3*5 + (x-3)/3 * 10\n",
        "\n",
        "imprima 'O VALOR A PAGAR E =' + value"
      ],
      "metadata": {
        "id": "SBmW8tGaPbgz"
      },
      "execution_count": null,
      "outputs": []
    },
    {
      "cell_type": "code",
      "source": [
        "nota <- leia(nota)\n",
        "\n",
        "se 9 <= nota <= 10\n",
        "  conceito <- 'A'\n",
        "se nota >= 7.5\n",
        "  conceito <- 'B'\n",
        "se nota >= 6\n",
        "  conceito <- 'C'\n",
        "senao\n",
        "  conceito <- 'D'\n",
        "\n",
        "imprima 'NOTA =' + nota + 'CONCEITO =' + conceito"
      ],
      "metadata": {
        "id": "lzMvV-qgPbY_"
      },
      "execution_count": null,
      "outputs": []
    },
    {
      "cell_type": "code",
      "source": [
        "volume = lambda h, a: 6*(a**2*(3**(1/2))/4) * h/3\n",
        "data = list(map(lambda x: float(x), input('Dados: ').split()))\n",
        "print(f'O VOLUME DA PIRAMIDE E = {volume(data[0], data[1]):.2f} METROS CUBICOS')\n",
        "\n",
        "# EM ALGORITMO:\n",
        "\n",
        "# h, a <- leia(altura, aresta)\n",
        "# imprima 'O VOLUME DA PIRAMIDE E =' + 6*(a**2*(3**(1/2))/4) * h/3"
      ],
      "metadata": {
        "id": "39-IFI7ZZgyo"
      },
      "execution_count": null,
      "outputs": []
    },
    {
      "cell_type": "code",
      "source": [
        "x <- 2 #contador\n",
        "\n",
        "enquanto x <= leia(n):\n",
        "  imprima '(x)^2 =' x**2\n",
        "  x += 2"
      ],
      "metadata": {
        "id": "QQiUeRQ6Yxbe"
      },
      "execution_count": null,
      "outputs": []
    },
    {
      "cell_type": "code",
      "source": [
        "salary <- leia(salario)\n",
        "\n",
        "se salary <= 300\n",
        "  new <- salary*1.5\n",
        "senao\n",
        "  new <- salary*1.3\n",
        "\n",
        "imprima 'SALARIO COM REAJUSTE =' + new"
      ],
      "metadata": {
        "id": "Ve58Yl2mcKlY"
      },
      "execution_count": null,
      "outputs": []
    },
    {
      "cell_type": "code",
      "source": [
        "x, y <- leia(x), leia(y)\n",
        "\n",
        "se x%2==0\n",
        "  c <- 0\n",
        "  enquanto c < y\n",
        "    imprima x + 2*c\n",
        "    c += 1\n",
        "senao\n",
        "  imprima 'O PRIMEIRO NUMERO NAO E PAR'"
      ],
      "metadata": {
        "id": "IZ99G6XeetfC"
      },
      "execution_count": null,
      "outputs": []
    },
    {
      "cell_type": "code",
      "source": [
        "a0 = leia(valor inicial)\n",
        "r = leia(razao)\n",
        "n = leia(numero de termos)\n",
        "\n",
        "lista <- []\n",
        "x <- 0\n",
        "\n",
        "enquanto x < n\n",
        "  adicione a lista(a0+n*r)\n",
        "  x += 1\n",
        "\n",
        "imprima soma(lista)"
      ],
      "metadata": {
        "id": "z_FUA1pAPbA4"
      },
      "execution_count": null,
      "outputs": []
    },
    {
      "cell_type": "code",
      "source": [
        "x <- 0\n",
        "\n",
        "lista = [1]\n",
        "\n",
        "se inteiro(n) = n e n > 1\n",
        "  x <- 1\n",
        "  enquanto x < n:\n",
        "    x += 1\n",
        "    adicione a lista(1/x)\n",
        "  imprima soma(lista) # APROXIME PARA 6 CASAS DECIMAIS\n",
        "senao\n",
        "  imprima 'Numero invalido!'"
      ],
      "metadata": {
        "id": "Z_dEckCDjuix"
      },
      "execution_count": null,
      "outputs": []
    },
    {
      "cell_type": "code",
      "source": [
        "secs = lambda dados: dados[0]*3600+dados[1]*60+dados[2]\n",
        "nomes = ['Horas', 'Minutos', 'Segundos']\n",
        "print('O TEMPO EM SEGUNDOS E =', secs([int(input(f'{nomes[x]}: ')) for x in range(0,3)]))\n",
        "\n",
        "# EM ALGORITMO:\n",
        "\n",
        "# h, m, s = leia(horas), leia(minutos), leia(segundos)\n",
        "# imprima 'O TEMPO EM SEGUNDOS E =' + (h*3600+m*60+s)"
      ],
      "metadata": {
        "id": "wSkFAvGMjuoS"
      },
      "execution_count": null,
      "outputs": []
    }
  ]
}